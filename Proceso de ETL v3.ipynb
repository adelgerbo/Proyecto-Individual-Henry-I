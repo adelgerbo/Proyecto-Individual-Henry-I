{
 "cells": [
  {
   "cell_type": "code",
   "execution_count": null,
   "metadata": {},
   "outputs": [],
   "source": [
    "# Importamos las librerias necesarias\n",
    "import pandas as pd\n",
    "from pandasql import sqldf"
   ]
  },
  {
   "cell_type": "code",
   "execution_count": null,
   "metadata": {},
   "outputs": [],
   "source": [
    "# Importamos los archivos CSV, uno para cada servicio de streaming\n",
    "Amazon = pd.read_csv(\"https://raw.githubusercontent.com/adelgerbo/Datasets/main/amazon_prime_titles-score.csv\")\n",
    "Disney = pd.read_csv(\"https://raw.githubusercontent.com/adelgerbo/Datasets/main/disney_plus_titles-score.csv\")\n",
    "Hulu = pd.read_csv(\"https://raw.githubusercontent.com/adelgerbo/Datasets/main/hulu_titles-score%20(2).csv\")\n",
    "Netflix = pd.read_csv(\"https://raw.githubusercontent.com/adelgerbo/Datasets/main/netflix_titles-score.csv\")"
   ]
  },
  {
   "cell_type": "code",
   "execution_count": null,
   "metadata": {},
   "outputs": [],
   "source": [
    "# Verificamos la importaciòn correcta de los datasets\n",
    "Amazon.head()"
   ]
  },
  {
   "cell_type": "code",
   "execution_count": null,
   "metadata": {},
   "outputs": [],
   "source": [
    "Disney.head()"
   ]
  },
  {
   "cell_type": "code",
   "execution_count": null,
   "metadata": {},
   "outputs": [],
   "source": [
    "Hulu.head()"
   ]
  },
  {
   "cell_type": "code",
   "execution_count": null,
   "metadata": {},
   "outputs": [],
   "source": [
    "Netflix.tail()"
   ]
  },
  {
   "cell_type": "code",
   "execution_count": null,
   "metadata": {},
   "outputs": [],
   "source": [
    "\"\"\"\n",
    "Generamos el campo id: Cada id se compondrá de la primera letra del\n",
    "nombre de la plataforma, seguido del show_id ya presente en los \n",
    "datasets (ejemplo para títulos de Amazon = as123)\n",
    "\"\"\"\n",
    "Amazon.insert(loc = 0,\n",
    "          column = 'id',\n",
    "          value = \"a\"+Amazon[\"show_id\"])\n",
    "\n",
    "Disney.insert(loc = 0,\n",
    "          column = 'id',\n",
    "          value = \"d\"+Disney[\"show_id\"])\n",
    "\n",
    "Hulu.insert(loc = 0,\n",
    "          column = 'id',\n",
    "          value = \"h\"+Hulu[\"show_id\"])\n",
    "\n",
    "Netflix.insert(loc = 0,\n",
    "          column = 'id',\n",
    "          value = \"n\"+Netflix[\"show_id\"])          \n",
    "\n"
   ]
  },
  {
   "cell_type": "code",
   "execution_count": null,
   "metadata": {},
   "outputs": [],
   "source": [
    "# Comprobamos la correcta inserciòn del nuevo campo\n",
    "Netflix.head()\n"
   ]
  },
  {
   "cell_type": "code",
   "execution_count": null,
   "metadata": {},
   "outputs": [],
   "source": [
    "\"\"\"\n",
    "Juntamos todos los datasets en uno solo, ya que contamos \n",
    "con el campo id para diferenciar el servicio, y las\n",
    "transformaciones a continuación se aplican a todos por igual\n",
    "\"\"\"\n",
    "\n",
    "moviesdb = Amazon.append(Disney).append(Hulu).append(Netflix)"
   ]
  },
  {
   "cell_type": "code",
   "execution_count": null,
   "metadata": {},
   "outputs": [],
   "source": [
    "#Verificamos el resultado\n",
    "moviesdb.head()"
   ]
  },
  {
   "cell_type": "code",
   "execution_count": null,
   "metadata": {},
   "outputs": [],
   "source": [
    "moviesdb.tail()"
   ]
  },
  {
   "cell_type": "code",
   "execution_count": null,
   "metadata": {},
   "outputs": [],
   "source": [
    "# Verificamos existencia y cantidad de nulos por columna en el dataframe\n",
    "moviesdb.isnull().sum()"
   ]
  },
  {
   "cell_type": "code",
   "execution_count": null,
   "metadata": {},
   "outputs": [],
   "source": [
    "\"\"\"\n",
    "Reemplazamos los valores nulos del campo \"Rating\" por la letra \"G\"\n",
    "(corresponde al maturity rating \"General por all audiences\")\n",
    "\"\"\"\n",
    "moviesdb[\"rating\"].fillna(\"G\", inplace = True)"
   ]
  },
  {
   "cell_type": "code",
   "execution_count": null,
   "metadata": {},
   "outputs": [],
   "source": [
    "# Controlamos la correcciòn sobre la columna \"rating\"\n",
    "moviesdb.isnull().sum()"
   ]
  },
  {
   "cell_type": "code",
   "execution_count": null,
   "metadata": {},
   "outputs": [],
   "source": [
    "# Visualizamos el dataframe modificado\n",
    "moviesdb.head(30)"
   ]
  },
  {
   "cell_type": "code",
   "execution_count": null,
   "metadata": {},
   "outputs": [],
   "source": [
    "# Cambiamos el formato de la columna \"date_added\" a AAAA-mm-dd\n",
    "moviesdb[\"date_added\"] = pd.to_datetime(moviesdb[\"date_added\"])\n"
   ]
  },
  {
   "cell_type": "code",
   "execution_count": null,
   "metadata": {},
   "outputs": [],
   "source": [
    "# Verificamos\n",
    "moviesdb.tail()"
   ]
  },
  {
   "cell_type": "code",
   "execution_count": null,
   "metadata": {},
   "outputs": [],
   "source": [
    "# Pasamos a minúsculas los campos de texto\n",
    "moviesdb[\"type\"] = moviesdb[\"type\"].str.lower()\n",
    "moviesdb[\"title\"] = moviesdb[\"title\"].str.lower()\n",
    "moviesdb[\"director\"] = moviesdb[\"director\"].str.lower()\n",
    "moviesdb[\"cast\"] = moviesdb[\"cast\"].str.lower()\n",
    "moviesdb[\"country\"] = moviesdb[\"country\"].str.lower()\n",
    "moviesdb[\"rating\"] = moviesdb[\"rating\"].str.lower()\n",
    "moviesdb[\"duration\"] = moviesdb[\"duration\"].str.lower()\n",
    "moviesdb[\"listed_in\"] = moviesdb[\"listed_in\"].str.lower()\n",
    "moviesdb[\"description\"] = moviesdb[\"description\"].str.lower()\n"
   ]
  },
  {
   "cell_type": "code",
   "execution_count": null,
   "metadata": {},
   "outputs": [],
   "source": [
    "# Verificamos\n",
    "moviesdb.head()"
   ]
  },
  {
   "cell_type": "code",
   "execution_count": null,
   "metadata": {},
   "outputs": [],
   "source": [
    "# Separamos el campo \"duration\" en 2 columnas\n",
    "splitcolumns = moviesdb[\"duration\"].str.split(\" \", n = 1, expand = True)\n",
    " \n",
    "# Insertamos una columna con las cantidades\n",
    "moviesdb[\"duration_int\"] = splitcolumns[0]\n",
    " \n",
    "# Insertamos una columna con la unidad de medición\n",
    "moviesdb[\"duration_type\"] = splitcolumns[1]\n"
   ]
  },
  {
   "cell_type": "code",
   "execution_count": null,
   "metadata": {},
   "outputs": [],
   "source": [
    "# Reemplazamos \"seasons\" por \"season\" en la columna \"duration_type\"\n",
    "moviesdb['duration_type'] = moviesdb['duration_type'].str.replace('seasons','season')"
   ]
  },
  {
   "cell_type": "code",
   "execution_count": null,
   "metadata": {},
   "outputs": [],
   "source": [
    "# Cambiamor el formato del campo \"duration_int\" a integer\n",
    "moviesdb['duration_int'] = moviesdb['duration_int'].astype(\"Int64\")"
   ]
  },
  {
   "cell_type": "code",
   "execution_count": null,
   "metadata": {},
   "outputs": [],
   "source": [
    "#Verificamos\n",
    "moviesdb.head(10)"
   ]
  },
  {
   "cell_type": "code",
   "execution_count": null,
   "metadata": {},
   "outputs": [],
   "source": [
    "moviesdb.info()"
   ]
  },
  {
   "cell_type": "code",
   "execution_count": null,
   "metadata": {},
   "outputs": [],
   "source": [
    "\"\"\"\n",
    "Comenzamos con las consultas al dataframe. Esta función nos evitará pasar variables\n",
    "globales cada vez que usemos un objeto\n",
    "\"\"\"\n",
    "pysqldf = lambda q: sqldf(q, globals())\n"
   ]
  },
  {
   "cell_type": "code",
   "execution_count": null,
   "metadata": {},
   "outputs": [],
   "source": [
    "\"\"\"\n",
    "Definimos la función para el siguiente requerimiento: Cantidad de títulos \n",
    "conteniendo una keyword, por plataforma\n",
    "\"\"\"\n",
    "@app.get(\"/get_word_count/{plataforma}/{keyword}\")\n",
    "def get_word_count(keyword:str, plataforma:str):\n",
    "    if plataforma == \"amazon\":\n",
    "        plat = \"a%\"\n",
    "    elif plataforma == \"netflix\":\n",
    "        plat = \"n%\"\n",
    "    elif plataforma == \"hulu\":\n",
    "        plat = \"h%\"\n",
    "    elif plataforma == \"disney\":\n",
    "        plat = \"d%\"\n",
    "    else:\n",
    "        return \"No ha seleccionado la plataforma entre las opciones posibles\"\n",
    "\n",
    "    query = (\n",
    "        \"\"\"SELECT COUNT(title)\n",
    "        FROM moviesdb\n",
    "        WHERE title LIKE '\"\"\"+keyword+\"\"\"'\n",
    "        AND id LIKE '\"\"\"\n",
    "        + plat\n",
    "        + \"\"\"' \"\"\"\n",
    "    )\n",
    "    veces = pysqldf(query)\n",
    "    return veces.to_string(index=False, header=False)"
   ]
  },
  {
   "cell_type": "code",
   "execution_count": null,
   "metadata": {},
   "outputs": [],
   "source": [
    "\"\"\"\n",
    "Definimos la función para el siguiente requerimiento: Cantidad de películas \n",
    "por plataforma con un puntaje mayor a XX en determinado año\n",
    "\"\"\"\n",
    "@app.get(\"/get_score_count/{plataforma}/{score}/{anio}\")\n",
    "def get_score_count(plataforma:str, score:int, anio:int):\n",
    "    if plataforma == \"amazon\":\n",
    "        plat = \"a%\"\n",
    "    elif plataforma == \"netflix\":\n",
    "        plat = \"n%\"\n",
    "    elif plataforma == \"hulu\":\n",
    "        plat = \"h%\"\n",
    "    elif plataforma == \"disney\":\n",
    "        plat = \"d%\"\n",
    "    else:\n",
    "        return \"No ha seleccionado la plataforma entre las opciones posibles\"\n",
    "\n",
    "query = \"\"\"SELECT COUNT(title)\n",
    "        FROM moviesdb\n",
    "        WHERE score > \"\"\"+score+\"\"\"\n",
    "        AND release_year = \"\"\"+anio+\"\"\"\n",
    "        AND id LIKE '\"\"\"\n",
    "        + plat\n",
    "        + \"\"\"'\n",
    "        AND type = \"movie\" \"\"\"\n",
    "cantidad = pysqldf(query)\n",
    "return cantidad.to_string(index=False, header=False)"
   ]
  },
  {
   "cell_type": "code",
   "execution_count": null,
   "metadata": {},
   "outputs": [],
   "source": [
    "query = \"\"\"SELECT title\n",
    "        FROM moviesdb\n",
    "        WHERE id LIKE \"a%\"\n",
    "        AND type = \"movie\"\n",
    "        ORDER BY score DESC, title ASC\n",
    "        LIMIT 1,1\"\"\"\n",
    "veces = pysqldf(query)\n",
    "veces"
   ]
  },
  {
   "cell_type": "code",
   "execution_count": null,
   "metadata": {},
   "outputs": [],
   "source": [
    "query = \"\"\"SELECT title\n",
    "        FROM moviesdb\n",
    "        WHERE id LIKE \"n%\"\n",
    "        AND release_year = 2016\n",
    "        AND duration_type = \"min\"\n",
    "        AND duration_int = (SELECT MAX(duration_int)\n",
    "        FROM moviesdb\n",
    "        WHERE id LIKE \"n%\"\n",
    "        AND release_year = 2016\n",
    "        AND duration_type = \"min\")\n",
    "        \"\"\"\n",
    "veces = pysqldf(query)\n",
    "veces"
   ]
  },
  {
   "cell_type": "code",
   "execution_count": null,
   "metadata": {},
   "outputs": [],
   "source": [
    "query = \"\"\"SELECT count(title)\n",
    "        FROM moviesdb\n",
    "        WHERE rating = \"all\" \"\"\"\n",
    "veces = pysqldf(query)\n",
    "veces"
   ]
  },
  {
   "cell_type": "code",
   "execution_count": null,
   "metadata": {},
   "outputs": [],
   "source": []
  }
 ],
 "metadata": {
  "kernelspec": {
   "display_name": "Python 3",
   "language": "python",
   "name": "python3"
  },
  "language_info": {
   "codemirror_mode": {
    "name": "ipython",
    "version": 3
   },
   "file_extension": ".py",
   "mimetype": "text/x-python",
   "name": "python",
   "nbconvert_exporter": "python",
   "pygments_lexer": "ipython3",
   "version": "3.10.6"
  },
  "orig_nbformat": 4,
  "vscode": {
   "interpreter": {
    "hash": "9a8ac931c2da658386087c1aeacfbaae947468c457a926ada196b02a9b560fa1"
   }
  }
 },
 "nbformat": 4,
 "nbformat_minor": 2
}
